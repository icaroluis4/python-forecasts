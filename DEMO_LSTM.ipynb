{
  "nbformat": 4,
  "nbformat_minor": 0,
  "metadata": {
    "colab": {
      "provenance": [],
      "collapsed_sections": [],
      "authorship_tag": "ABX9TyPlY6phioOoLekSQF/WlOz3",
      "include_colab_link": true
    },
    "kernelspec": {
      "name": "python3",
      "display_name": "Python 3"
    },
    "language_info": {
      "name": "python"
    }
  },
  "cells": [
    {
      "cell_type": "markdown",
      "metadata": {
        "id": "view-in-github",
        "colab_type": "text"
      },
      "source": [
        "<a href=\"https://colab.research.google.com/github/icaroluis4/python-forecasts/blob/main/DEMO_LSTM.ipynb\" target=\"_parent\"><img src=\"https://colab.research.google.com/assets/colab-badge.svg\" alt=\"Open In Colab\"/></a>"
      ]
    },
    {
      "cell_type": "markdown",
      "metadata": {
        "id": "8JG7iCmTyvJJ"
      },
      "source": [
        "#Instalações"
      ]
    },
    {
      "cell_type": "code",
      "metadata": {
        "colab": {
          "base_uri": "https://localhost:8080/"
        },
        "id": "6XlS9qiq8cLW",
        "outputId": "f09a9274-e8a3-4399-95e2-927071821b0b"
      },
      "source": [
        "!pip install yfinance"
      ],
      "execution_count": null,
      "outputs": [
        {
          "output_type": "stream",
          "name": "stdout",
          "text": [
            "Looking in indexes: https://pypi.org/simple, https://us-python.pkg.dev/colab-wheels/public/simple/\n",
            "Collecting yfinance\n",
            "  Downloading yfinance-0.1.74-py2.py3-none-any.whl (27 kB)\n",
            "Requirement already satisfied: lxml>=4.5.1 in /usr/local/lib/python3.7/dist-packages (from yfinance) (4.9.1)\n",
            "Requirement already satisfied: multitasking>=0.0.7 in /usr/local/lib/python3.7/dist-packages (from yfinance) (0.0.11)\n",
            "Requirement already satisfied: numpy>=1.15 in /usr/local/lib/python3.7/dist-packages (from yfinance) (1.21.6)\n",
            "Requirement already satisfied: pandas>=0.24.0 in /usr/local/lib/python3.7/dist-packages (from yfinance) (1.3.5)\n",
            "Collecting requests>=2.26\n",
            "  Downloading requests-2.28.1-py3-none-any.whl (62 kB)\n",
            "\u001b[K     |████████████████████████████████| 62 kB 1.3 MB/s \n",
            "\u001b[?25hRequirement already satisfied: python-dateutil>=2.7.3 in /usr/local/lib/python3.7/dist-packages (from pandas>=0.24.0->yfinance) (2.8.2)\n",
            "Requirement already satisfied: pytz>=2017.3 in /usr/local/lib/python3.7/dist-packages (from pandas>=0.24.0->yfinance) (2022.2.1)\n",
            "Requirement already satisfied: six>=1.5 in /usr/local/lib/python3.7/dist-packages (from python-dateutil>=2.7.3->pandas>=0.24.0->yfinance) (1.15.0)\n",
            "Requirement already satisfied: urllib3<1.27,>=1.21.1 in /usr/local/lib/python3.7/dist-packages (from requests>=2.26->yfinance) (1.24.3)\n",
            "Requirement already satisfied: charset-normalizer<3,>=2 in /usr/local/lib/python3.7/dist-packages (from requests>=2.26->yfinance) (2.1.1)\n",
            "Requirement already satisfied: idna<4,>=2.5 in /usr/local/lib/python3.7/dist-packages (from requests>=2.26->yfinance) (2.10)\n",
            "Requirement already satisfied: certifi>=2017.4.17 in /usr/local/lib/python3.7/dist-packages (from requests>=2.26->yfinance) (2022.6.15)\n",
            "Installing collected packages: requests, yfinance\n",
            "  Attempting uninstall: requests\n",
            "    Found existing installation: requests 2.23.0\n",
            "    Uninstalling requests-2.23.0:\n",
            "      Successfully uninstalled requests-2.23.0\n",
            "Successfully installed requests-2.28.1 yfinance-0.1.74\n"
          ]
        }
      ]
    },
    {
      "cell_type": "markdown",
      "metadata": {
        "id": "baIIAgCcy1qf"
      },
      "source": [
        "#Importações"
      ]
    },
    {
      "cell_type": "code",
      "metadata": {
        "id": "4sm92Pf-8hyK"
      },
      "source": [
        "import pandas as pd\n",
        "import numpy as np\n",
        "import random\n",
        "import math\n",
        "import matplotlib.pyplot as plt\n",
        "import tensorflow as tf\n",
        "\n",
        "import yfinance as yf\n",
        "import pandas_datareader.data as web\n",
        "\n",
        "from numpy import sqrt\n",
        "from sklearn.preprocessing import MinMaxScaler\n",
        "from sklearn.preprocessing import StandardScaler # novo Scaler para TESTE-1_2 \n",
        "from tensorflow.keras.models import Sequential\n",
        "#from tensorflow.keras.layers import Dense, LSTM , Dropout\n",
        "from tensorflow.keras.layers import *\n",
        "from sklearn.metrics import mean_squared_error \n",
        "from sklearn.model_selection import train_test_split\n",
        "\n",
        "from google.colab import files #necessario para o upload do arquivo\n",
        "import io #necessario para o upload do arquivo"
      ],
      "execution_count": null,
      "outputs": []
    },
    {
      "cell_type": "code",
      "metadata": {
        "id": "SDZC8LFkZ3E7"
      },
      "source": [
        "from pylab import rcParams\n",
        "rcParams['figure.figsize'] = 20 ,15"
      ],
      "execution_count": null,
      "outputs": []
    },
    {
      "cell_type": "markdown",
      "metadata": {
        "id": "fDGlr-dMy56_"
      },
      "source": [
        "#Obtendo Dados "
      ]
    },
    {
      "cell_type": "code",
      "metadata": {
        "id": "SK9HobLE8kex"
      },
      "source": [
        "its4 = yf.Ticker(\"ITUB4.SA\")"
      ],
      "execution_count": null,
      "outputs": []
    },
    {
      "cell_type": "code",
      "metadata": {
        "colab": {
          "base_uri": "https://localhost:8080/"
        },
        "id": "9I1E_vlu8ntx",
        "outputId": "6aae3a3c-8570-4af0-8ce4-0982caf8fd11"
      },
      "source": [
        "hist = its4.history(start=\"2010-01-01\" , end = \"2019-12-12\")\n",
        "\n",
        "df = hist\n",
        "\n",
        "df.head() , print(len(df))"
      ],
      "execution_count": null,
      "outputs": [
        {
          "output_type": "stream",
          "name": "stdout",
          "text": [
            "2469\n"
          ]
        },
        {
          "output_type": "execute_result",
          "data": {
            "text/plain": [
              "(                 Open       High        Low      Close    Volume  Dividends  \\\n",
              " Date                                                                          \n",
              " 2010-01-04  10.811475  11.256278  10.811475  11.153418  11843397        0.0   \n",
              " 2010-01-05  11.181216  11.225697  11.092255  11.225697   8593315        0.0   \n",
              " 2010-01-06  11.189554  11.256275  11.036654  11.128394  10602572        0.0   \n",
              " 2010-01-07  11.050554  11.133955  10.994954  11.014415   9966567        0.0   \n",
              " 2010-01-08  11.058899  11.058899  10.819818  10.847618   9748709        0.0   \n",
              " \n",
              "             Stock Splits  \n",
              " Date                      \n",
              " 2010-01-04           0.0  \n",
              " 2010-01-05           0.0  \n",
              " 2010-01-06           0.0  \n",
              " 2010-01-07           0.0  \n",
              " 2010-01-08           0.0  , None)"
            ]
          },
          "metadata": {},
          "execution_count": 5
        }
      ]
    },
    {
      "cell_type": "markdown",
      "metadata": {
        "id": "oDNj6P1yzCuX"
      },
      "source": [
        "#Isolando a coluna 'Close' , separando os DataFrames de treino e teste"
      ]
    },
    {
      "cell_type": "code",
      "source": [
        "df = df.iloc[: ,3:4]\n",
        "\n",
        "df"
      ],
      "metadata": {
        "colab": {
          "base_uri": "https://localhost:8080/",
          "height": 455
        },
        "id": "pr94VYb17Hg0",
        "outputId": "6dd5330c-46f2-43aa-8156-c0e64c3f84e8"
      },
      "execution_count": null,
      "outputs": [
        {
          "output_type": "execute_result",
          "data": {
            "text/plain": [
              "                Close\n",
              "Date                 \n",
              "2010-01-04  11.153418\n",
              "2010-01-05  11.225697\n",
              "2010-01-06  11.128394\n",
              "2010-01-07  11.014415\n",
              "2010-01-08  10.847618\n",
              "...               ...\n",
              "2019-12-05  33.684460\n",
              "2019-12-06  33.075542\n",
              "2019-12-09  33.721371\n",
              "2019-12-10  33.232399\n",
              "2019-12-11  32.844906\n",
              "\n",
              "[2469 rows x 1 columns]"
            ],
            "text/html": [
              "\n",
              "  <div id=\"df-47d286a1-a533-4d02-a734-c62adc39edcf\">\n",
              "    <div class=\"colab-df-container\">\n",
              "      <div>\n",
              "<style scoped>\n",
              "    .dataframe tbody tr th:only-of-type {\n",
              "        vertical-align: middle;\n",
              "    }\n",
              "\n",
              "    .dataframe tbody tr th {\n",
              "        vertical-align: top;\n",
              "    }\n",
              "\n",
              "    .dataframe thead th {\n",
              "        text-align: right;\n",
              "    }\n",
              "</style>\n",
              "<table border=\"1\" class=\"dataframe\">\n",
              "  <thead>\n",
              "    <tr style=\"text-align: right;\">\n",
              "      <th></th>\n",
              "      <th>Close</th>\n",
              "    </tr>\n",
              "    <tr>\n",
              "      <th>Date</th>\n",
              "      <th></th>\n",
              "    </tr>\n",
              "  </thead>\n",
              "  <tbody>\n",
              "    <tr>\n",
              "      <th>2010-01-04</th>\n",
              "      <td>11.153418</td>\n",
              "    </tr>\n",
              "    <tr>\n",
              "      <th>2010-01-05</th>\n",
              "      <td>11.225697</td>\n",
              "    </tr>\n",
              "    <tr>\n",
              "      <th>2010-01-06</th>\n",
              "      <td>11.128394</td>\n",
              "    </tr>\n",
              "    <tr>\n",
              "      <th>2010-01-07</th>\n",
              "      <td>11.014415</td>\n",
              "    </tr>\n",
              "    <tr>\n",
              "      <th>2010-01-08</th>\n",
              "      <td>10.847618</td>\n",
              "    </tr>\n",
              "    <tr>\n",
              "      <th>...</th>\n",
              "      <td>...</td>\n",
              "    </tr>\n",
              "    <tr>\n",
              "      <th>2019-12-05</th>\n",
              "      <td>33.684460</td>\n",
              "    </tr>\n",
              "    <tr>\n",
              "      <th>2019-12-06</th>\n",
              "      <td>33.075542</td>\n",
              "    </tr>\n",
              "    <tr>\n",
              "      <th>2019-12-09</th>\n",
              "      <td>33.721371</td>\n",
              "    </tr>\n",
              "    <tr>\n",
              "      <th>2019-12-10</th>\n",
              "      <td>33.232399</td>\n",
              "    </tr>\n",
              "    <tr>\n",
              "      <th>2019-12-11</th>\n",
              "      <td>32.844906</td>\n",
              "    </tr>\n",
              "  </tbody>\n",
              "</table>\n",
              "<p>2469 rows × 1 columns</p>\n",
              "</div>\n",
              "      <button class=\"colab-df-convert\" onclick=\"convertToInteractive('df-47d286a1-a533-4d02-a734-c62adc39edcf')\"\n",
              "              title=\"Convert this dataframe to an interactive table.\"\n",
              "              style=\"display:none;\">\n",
              "        \n",
              "  <svg xmlns=\"http://www.w3.org/2000/svg\" height=\"24px\"viewBox=\"0 0 24 24\"\n",
              "       width=\"24px\">\n",
              "    <path d=\"M0 0h24v24H0V0z\" fill=\"none\"/>\n",
              "    <path d=\"M18.56 5.44l.94 2.06.94-2.06 2.06-.94-2.06-.94-.94-2.06-.94 2.06-2.06.94zm-11 1L8.5 8.5l.94-2.06 2.06-.94-2.06-.94L8.5 2.5l-.94 2.06-2.06.94zm10 10l.94 2.06.94-2.06 2.06-.94-2.06-.94-.94-2.06-.94 2.06-2.06.94z\"/><path d=\"M17.41 7.96l-1.37-1.37c-.4-.4-.92-.59-1.43-.59-.52 0-1.04.2-1.43.59L10.3 9.45l-7.72 7.72c-.78.78-.78 2.05 0 2.83L4 21.41c.39.39.9.59 1.41.59.51 0 1.02-.2 1.41-.59l7.78-7.78 2.81-2.81c.8-.78.8-2.07 0-2.86zM5.41 20L4 18.59l7.72-7.72 1.47 1.35L5.41 20z\"/>\n",
              "  </svg>\n",
              "      </button>\n",
              "      \n",
              "  <style>\n",
              "    .colab-df-container {\n",
              "      display:flex;\n",
              "      flex-wrap:wrap;\n",
              "      gap: 12px;\n",
              "    }\n",
              "\n",
              "    .colab-df-convert {\n",
              "      background-color: #E8F0FE;\n",
              "      border: none;\n",
              "      border-radius: 50%;\n",
              "      cursor: pointer;\n",
              "      display: none;\n",
              "      fill: #1967D2;\n",
              "      height: 32px;\n",
              "      padding: 0 0 0 0;\n",
              "      width: 32px;\n",
              "    }\n",
              "\n",
              "    .colab-df-convert:hover {\n",
              "      background-color: #E2EBFA;\n",
              "      box-shadow: 0px 1px 2px rgba(60, 64, 67, 0.3), 0px 1px 3px 1px rgba(60, 64, 67, 0.15);\n",
              "      fill: #174EA6;\n",
              "    }\n",
              "\n",
              "    [theme=dark] .colab-df-convert {\n",
              "      background-color: #3B4455;\n",
              "      fill: #D2E3FC;\n",
              "    }\n",
              "\n",
              "    [theme=dark] .colab-df-convert:hover {\n",
              "      background-color: #434B5C;\n",
              "      box-shadow: 0px 1px 3px 1px rgba(0, 0, 0, 0.15);\n",
              "      filter: drop-shadow(0px 1px 2px rgba(0, 0, 0, 0.3));\n",
              "      fill: #FFFFFF;\n",
              "    }\n",
              "  </style>\n",
              "\n",
              "      <script>\n",
              "        const buttonEl =\n",
              "          document.querySelector('#df-47d286a1-a533-4d02-a734-c62adc39edcf button.colab-df-convert');\n",
              "        buttonEl.style.display =\n",
              "          google.colab.kernel.accessAllowed ? 'block' : 'none';\n",
              "\n",
              "        async function convertToInteractive(key) {\n",
              "          const element = document.querySelector('#df-47d286a1-a533-4d02-a734-c62adc39edcf');\n",
              "          const dataTable =\n",
              "            await google.colab.kernel.invokeFunction('convertToInteractive',\n",
              "                                                     [key], {});\n",
              "          if (!dataTable) return;\n",
              "\n",
              "          const docLinkHtml = 'Like what you see? Visit the ' +\n",
              "            '<a target=\"_blank\" href=https://colab.research.google.com/notebooks/data_table.ipynb>data table notebook</a>'\n",
              "            + ' to learn more about interactive tables.';\n",
              "          element.innerHTML = '';\n",
              "          dataTable['output_type'] = 'display_data';\n",
              "          await google.colab.output.renderOutput(dataTable, element);\n",
              "          const docLink = document.createElement('div');\n",
              "          docLink.innerHTML = docLinkHtml;\n",
              "          element.appendChild(docLink);\n",
              "        }\n",
              "      </script>\n",
              "    </div>\n",
              "  </div>\n",
              "  "
            ]
          },
          "metadata": {},
          "execution_count": 6
        }
      ]
    },
    {
      "cell_type": "markdown",
      "source": [
        "#Dividindo Train & Test"
      ],
      "metadata": {
        "id": "Y8Y9JSMPq6RZ"
      }
    },
    {
      "cell_type": "code",
      "metadata": {
        "colab": {
          "base_uri": "https://localhost:8080/"
        },
        "id": "O0EgmOhO8ulZ",
        "outputId": "09e7d3cb-f4aa-4279-bae4-ea342e908962"
      },
      "source": [
        "\n",
        "\n",
        "training_data = df[:2100]\n",
        "testing_data = df[2101:]\n",
        "\n",
        "\n",
        "\n",
        "\n",
        "df.shape, training_data.shape , testing_data.shape"
      ],
      "execution_count": null,
      "outputs": [
        {
          "output_type": "execute_result",
          "data": {
            "text/plain": [
              "((2469, 1), (2100, 1), (368, 1))"
            ]
          },
          "metadata": {},
          "execution_count": 7
        }
      ]
    },
    {
      "cell_type": "code",
      "metadata": {
        "colab": {
          "base_uri": "https://localhost:8080/",
          "height": 238
        },
        "id": "syYI91caP8Zh",
        "outputId": "fdc781af-a0ee-4894-fffe-56af08aab9b1"
      },
      "source": [
        " df.tail()"
      ],
      "execution_count": null,
      "outputs": [
        {
          "output_type": "execute_result",
          "data": {
            "text/plain": [
              "                Close\n",
              "Date                 \n",
              "2019-12-05  33.684460\n",
              "2019-12-06  33.075542\n",
              "2019-12-09  33.721371\n",
              "2019-12-10  33.232399\n",
              "2019-12-11  32.844906"
            ],
            "text/html": [
              "\n",
              "  <div id=\"df-f2cb3f57-78a9-418d-86f0-0fa567b493da\">\n",
              "    <div class=\"colab-df-container\">\n",
              "      <div>\n",
              "<style scoped>\n",
              "    .dataframe tbody tr th:only-of-type {\n",
              "        vertical-align: middle;\n",
              "    }\n",
              "\n",
              "    .dataframe tbody tr th {\n",
              "        vertical-align: top;\n",
              "    }\n",
              "\n",
              "    .dataframe thead th {\n",
              "        text-align: right;\n",
              "    }\n",
              "</style>\n",
              "<table border=\"1\" class=\"dataframe\">\n",
              "  <thead>\n",
              "    <tr style=\"text-align: right;\">\n",
              "      <th></th>\n",
              "      <th>Close</th>\n",
              "    </tr>\n",
              "    <tr>\n",
              "      <th>Date</th>\n",
              "      <th></th>\n",
              "    </tr>\n",
              "  </thead>\n",
              "  <tbody>\n",
              "    <tr>\n",
              "      <th>2019-12-05</th>\n",
              "      <td>33.684460</td>\n",
              "    </tr>\n",
              "    <tr>\n",
              "      <th>2019-12-06</th>\n",
              "      <td>33.075542</td>\n",
              "    </tr>\n",
              "    <tr>\n",
              "      <th>2019-12-09</th>\n",
              "      <td>33.721371</td>\n",
              "    </tr>\n",
              "    <tr>\n",
              "      <th>2019-12-10</th>\n",
              "      <td>33.232399</td>\n",
              "    </tr>\n",
              "    <tr>\n",
              "      <th>2019-12-11</th>\n",
              "      <td>32.844906</td>\n",
              "    </tr>\n",
              "  </tbody>\n",
              "</table>\n",
              "</div>\n",
              "      <button class=\"colab-df-convert\" onclick=\"convertToInteractive('df-f2cb3f57-78a9-418d-86f0-0fa567b493da')\"\n",
              "              title=\"Convert this dataframe to an interactive table.\"\n",
              "              style=\"display:none;\">\n",
              "        \n",
              "  <svg xmlns=\"http://www.w3.org/2000/svg\" height=\"24px\"viewBox=\"0 0 24 24\"\n",
              "       width=\"24px\">\n",
              "    <path d=\"M0 0h24v24H0V0z\" fill=\"none\"/>\n",
              "    <path d=\"M18.56 5.44l.94 2.06.94-2.06 2.06-.94-2.06-.94-.94-2.06-.94 2.06-2.06.94zm-11 1L8.5 8.5l.94-2.06 2.06-.94-2.06-.94L8.5 2.5l-.94 2.06-2.06.94zm10 10l.94 2.06.94-2.06 2.06-.94-2.06-.94-.94-2.06-.94 2.06-2.06.94z\"/><path d=\"M17.41 7.96l-1.37-1.37c-.4-.4-.92-.59-1.43-.59-.52 0-1.04.2-1.43.59L10.3 9.45l-7.72 7.72c-.78.78-.78 2.05 0 2.83L4 21.41c.39.39.9.59 1.41.59.51 0 1.02-.2 1.41-.59l7.78-7.78 2.81-2.81c.8-.78.8-2.07 0-2.86zM5.41 20L4 18.59l7.72-7.72 1.47 1.35L5.41 20z\"/>\n",
              "  </svg>\n",
              "      </button>\n",
              "      \n",
              "  <style>\n",
              "    .colab-df-container {\n",
              "      display:flex;\n",
              "      flex-wrap:wrap;\n",
              "      gap: 12px;\n",
              "    }\n",
              "\n",
              "    .colab-df-convert {\n",
              "      background-color: #E8F0FE;\n",
              "      border: none;\n",
              "      border-radius: 50%;\n",
              "      cursor: pointer;\n",
              "      display: none;\n",
              "      fill: #1967D2;\n",
              "      height: 32px;\n",
              "      padding: 0 0 0 0;\n",
              "      width: 32px;\n",
              "    }\n",
              "\n",
              "    .colab-df-convert:hover {\n",
              "      background-color: #E2EBFA;\n",
              "      box-shadow: 0px 1px 2px rgba(60, 64, 67, 0.3), 0px 1px 3px 1px rgba(60, 64, 67, 0.15);\n",
              "      fill: #174EA6;\n",
              "    }\n",
              "\n",
              "    [theme=dark] .colab-df-convert {\n",
              "      background-color: #3B4455;\n",
              "      fill: #D2E3FC;\n",
              "    }\n",
              "\n",
              "    [theme=dark] .colab-df-convert:hover {\n",
              "      background-color: #434B5C;\n",
              "      box-shadow: 0px 1px 3px 1px rgba(0, 0, 0, 0.15);\n",
              "      filter: drop-shadow(0px 1px 2px rgba(0, 0, 0, 0.3));\n",
              "      fill: #FFFFFF;\n",
              "    }\n",
              "  </style>\n",
              "\n",
              "      <script>\n",
              "        const buttonEl =\n",
              "          document.querySelector('#df-f2cb3f57-78a9-418d-86f0-0fa567b493da button.colab-df-convert');\n",
              "        buttonEl.style.display =\n",
              "          google.colab.kernel.accessAllowed ? 'block' : 'none';\n",
              "\n",
              "        async function convertToInteractive(key) {\n",
              "          const element = document.querySelector('#df-f2cb3f57-78a9-418d-86f0-0fa567b493da');\n",
              "          const dataTable =\n",
              "            await google.colab.kernel.invokeFunction('convertToInteractive',\n",
              "                                                     [key], {});\n",
              "          if (!dataTable) return;\n",
              "\n",
              "          const docLinkHtml = 'Like what you see? Visit the ' +\n",
              "            '<a target=\"_blank\" href=https://colab.research.google.com/notebooks/data_table.ipynb>data table notebook</a>'\n",
              "            + ' to learn more about interactive tables.';\n",
              "          element.innerHTML = '';\n",
              "          dataTable['output_type'] = 'display_data';\n",
              "          await google.colab.output.renderOutput(dataTable, element);\n",
              "          const docLink = document.createElement('div');\n",
              "          docLink.innerHTML = docLinkHtml;\n",
              "          element.appendChild(docLink);\n",
              "        }\n",
              "      </script>\n",
              "    </div>\n",
              "  </div>\n",
              "  "
            ]
          },
          "metadata": {},
          "execution_count": 8
        }
      ]
    },
    {
      "cell_type": "markdown",
      "metadata": {
        "id": "c5BBZrVszTO3"
      },
      "source": [
        "#Plotando treino e teste"
      ]
    },
    {
      "cell_type": "code",
      "metadata": {
        "colab": {
          "base_uri": "https://localhost:8080/",
          "height": 1000
        },
        "id": "gV0vdg2g8xPR",
        "outputId": "12b94c9b-b023-49be-d9e6-b36534123b03"
      },
      "source": [
        "\n",
        "\n",
        "testing_data.plot()\n",
        "training_data.plot()\n",
        "\n",
        "plt.show()"
      ],
      "execution_count": null,
      "outputs": [
        {
          "output_type": "display_data",
          "data": {
            "text/plain": [
              "<Figure size 1440x1080 with 1 Axes>"
            ],
            "image/png": "[encoded data removed]"
          },
          "metadata": {
            "needs_background": "light"
          }
        },
        {
          "output_type": "display_data",
          "data": {
            "text/plain": [
              "<Figure size 1440x1080 with 1 Axes>"
            ],
            "image/png": "[encoded data removed]"
          },
          "metadata": {
            "needs_background": "light"
          }
        }
      ]
    },
    {
      "cell_type": "markdown",
      "metadata": {
        "id": "hVoeBKu3zaFf"
      },
      "source": [
        "#Escalonando os dados entre 0 - 1"
      ]
    },
    {
      "cell_type": "code",
      "source": [
        "print(training_data.shape,testing_data.shape)"
      ],
      "metadata": {
        "colab": {
          "base_uri": "https://localhost:8080/"
        },
        "id": "AedrLoQT_dhp",
        "outputId": "c9951cc1-a5ce-4ec4-81d0-fe65cd9805b5"
      },
      "execution_count": null,
      "outputs": [
        {
          "output_type": "stream",
          "name": "stdout",
          "text": [
            "(2100, 1) (368, 1)\n"
          ]
        }
      ]
    },
    {
      "cell_type": "code",
      "metadata": {
        "colab": {
          "base_uri": "https://localhost:8080/"
        },
        "id": "AIIhxRH2MdSb",
        "outputId": "57fa16fd-8dde-4d20-f043-02e1c9ce187d"
      },
      "source": [
        "\n",
        "\n",
        "scaler = MinMaxScaler(feature_range=(0, 1))\n",
        "\n",
        "training_data_scaled = scaler.fit_transform(training_data)\n",
        "testing_data_scaled = scaler.fit_transform(testing_data)\n",
        "\n",
        "\n",
        "\n",
        "training_data_scaled[44:1,0]\n",
        "\n"
      ],
      "execution_count": null,
      "outputs": [
        {
          "output_type": "execute_result",
          "data": {
            "text/plain": [
              "array([], dtype=float64)"
            ]
          },
          "metadata": {},
          "execution_count": 11
        }
      ]
    },
    {
      "cell_type": "markdown",
      "metadata": {
        "id": "bvfylRRYzjeP"
      },
      "source": [
        "#Função que distribui os dados para cada 'time' em X para Y"
      ]
    },
    {
      "cell_type": "markdown",
      "source": [
        "#Função, distribuindo os dias pela janela de tempo"
      ],
      "metadata": {
        "id": "eus94kPEUr1I"
      }
    },
    {
      "cell_type": "code",
      "source": [
        "def create_df_hog(df , windows):\n",
        "  #df_as_np = np.array(df)\n",
        "  df = pd.DataFrame(df)\n",
        "  df_as_np = df.to_numpy()\n",
        "\n",
        "  print(len(df_as_np))\n",
        "\n",
        "  X = []\n",
        "  y = []\n",
        "\n",
        "  for i in range (len(df_as_np) - windows):\n",
        "\n",
        "    row =[[a] for a in df_as_np[ i : i + windows]]\n",
        "\n",
        "    X.append(row)\n",
        "    label = df_as_np[ i + windows]\n",
        "    y.append(label)\n",
        "\n",
        "\n",
        "  return np.array(X) , np.array(y)\n"
      ],
      "metadata": {
        "id": "e7AoBmxCUw75"
      },
      "execution_count": null,
      "outputs": []
    },
    {
      "cell_type": "code",
      "source": [
        "'''def create_df(df):\n",
        "\n",
        "  x_df = []\n",
        "  y_df = []\n",
        "\n",
        "  time = 3\n",
        "  #sum = 30\n",
        "  length = len(df)\n",
        "\n",
        "  for i in range(time , length):\n",
        "       x_df.append(((df[i - time:i ,0])))\n",
        "    \n",
        "       y_df.append(df[i,0])\n",
        "\n",
        "  x_df = np.array(x_df)\n",
        "  y_df = np.array(y_df)\n",
        "\n",
        "  return x_df, y_df'''"
      ],
      "metadata": {
        "id": "y7j1FUCgBU8M",
        "colab": {
          "base_uri": "https://localhost:8080/",
          "height": 53
        },
        "outputId": "b60f2d4c-15a5-49b9-85fd-86387f22d567"
      },
      "execution_count": null,
      "outputs": [
        {
          "output_type": "execute_result",
          "data": {
            "text/plain": [
              "'def create_df(df):\\n\\n  x_df = []\\n  y_df = []\\n\\n  time = 3\\n  #sum = 30\\n  length = len(df)\\n\\n  for i in range(time , length):\\n       x_df.append(((df[i - time:i ,0])))\\n    \\n       y_df.append(df[i,0])\\n\\n  x_df = np.array(x_df)\\n  y_df = np.array(y_df)\\n\\n  return x_df, y_df'"
            ],
            "application/vnd.google.colaboratory.intrinsic+json": {
              "type": "string"
            }
          },
          "metadata": {},
          "execution_count": 13
        }
      ]
    },
    {
      "cell_type": "markdown",
      "source": [
        "#Passando a função para os dados"
      ],
      "metadata": {
        "id": "rU_8dqxarjhI"
      }
    },
    {
      "cell_type": "code",
      "metadata": {
        "colab": {
          "base_uri": "https://localhost:8080/"
        },
        "id": "n4UtKm5xd3qa",
        "outputId": "19177af8-1ae4-43f6-e1c5-e9676c4b6fde"
      },
      "source": [
        "x_train , y_train = create_df_hog(training_data_scaled , 3) #training_data_scaled\n",
        "x_test , y_test = create_df_hog(testing_data_scaled , 3) #testing_data_scaled\n",
        "\n",
        "x_train.shape , y_train.shape , x_test.shape , y_test.shape"
      ],
      "execution_count": null,
      "outputs": [
        {
          "output_type": "stream",
          "name": "stdout",
          "text": [
            "2100\n",
            "368\n"
          ]
        },
        {
          "output_type": "execute_result",
          "data": {
            "text/plain": [
              "((2097, 3, 1, 1), (2097, 1), (365, 3, 1, 1), (365, 1))"
            ]
          },
          "metadata": {},
          "execution_count": 14
        }
      ]
    },
    {
      "cell_type": "markdown",
      "metadata": {
        "id": "Er56h0Hp88YK"
      },
      "source": [
        "#Reshape para o formato do modelo"
      ]
    },
    {
      "cell_type": "code",
      "metadata": {
        "colab": {
          "base_uri": "https://localhost:8080/"
        },
        "id": "LaocfSmGNoZj",
        "outputId": "22dffe8b-0954-4e75-c7de-445192ad2cdb"
      },
      "source": [
        "x_train = np.reshape(x_train , (x_train.shape[0] , x_train.shape[1] , 1))\n",
        "x_test = np.reshape(x_test , (x_test.shape[0] , x_test.shape[1] , 1 ))\n",
        "x_train.shape , y_train.shape , x_test.shape , y_test.shape"
      ],
      "execution_count": null,
      "outputs": [
        {
          "output_type": "execute_result",
          "data": {
            "text/plain": [
              "((2097, 3, 1), (2097, 1), (365, 3, 1), (365, 1))"
            ]
          },
          "metadata": {},
          "execution_count": 15
        }
      ]
    },
    {
      "cell_type": "markdown",
      "source": [
        "Trasnformando y_train e y_test"
      ],
      "metadata": {
        "id": "QRjN96mut3Y1"
      }
    },
    {
      "cell_type": "code",
      "source": [
        "def transform_y( df):\n",
        "  aux = []\n",
        "  aux2 = 0\n",
        "  for i in range (len(df)) :\n",
        "      aux2 = df[i][0]\n",
        "      aux.append(aux2)\n",
        "\n",
        "  return np.array(aux)\n",
        "\n"
      ],
      "metadata": {
        "id": "wZUB28m-a63L"
      },
      "execution_count": null,
      "outputs": []
    },
    {
      "cell_type": "code",
      "source": [
        "y_train = transform_y(y_train)\n",
        "y_test = transform_y(y_test)\n",
        "\n",
        "x_train.shape , y_train.shape , x_test.shape , y_test.shape\n"
      ],
      "metadata": {
        "colab": {
          "base_uri": "https://localhost:8080/"
        },
        "id": "nCPJx9_BbxjX",
        "outputId": "745b38b0-95fc-432c-b91b-46c0f56557e4"
      },
      "execution_count": null,
      "outputs": [
        {
          "output_type": "execute_result",
          "data": {
            "text/plain": [
              "((2097, 3, 1), (2097,), (365, 3, 1), (365,))"
            ]
          },
          "metadata": {},
          "execution_count": 17
        }
      ]
    },
    {
      "cell_type": "code",
      "source": [
        "print(x_train.shape[1])"
      ],
      "metadata": {
        "colab": {
          "base_uri": "https://localhost:8080/"
        },
        "id": "nyBnec6Rc3jV",
        "outputId": "4ea9d6e8-07df-413a-e7b7-7f58b09481fd"
      },
      "execution_count": null,
      "outputs": [
        {
          "output_type": "stream",
          "name": "stdout",
          "text": [
            "3\n"
          ]
        }
      ]
    },
    {
      "cell_type": "markdown",
      "metadata": {
        "id": "8NZQ2gEXz__n"
      },
      "source": [
        "#Modelo"
      ]
    },
    {
      "cell_type": "code",
      "source": [
        "#from tensorflow.keras.layers import *\n",
        "\n",
        "model = Sequential()\n",
        "\n",
        "model.add(InputLayer((3 , 1)))\n",
        "\n",
        "model.add(LSTM(units = 128 , return_sequences = True ))\n",
        "model.add(Dropout(0.2))\n",
        "\n",
        "model.add(LSTM(64))\n",
        "\n",
        "model.add(Dense(8 , 'relu'))\n",
        "\n",
        "model.add(Dense(1 , 'linear'))\n",
        "\n",
        "model.summary()"
      ],
      "metadata": {
        "colab": {
          "base_uri": "https://localhost:8080/"
        },
        "id": "B0KzaAi-mSaJ",
        "outputId": "43eb4b09-e771-44cd-b78a-02737571c9df"
      },
      "execution_count": null,
      "outputs": [
        {
          "output_type": "stream",
          "name": "stdout",
          "text": [
            "Model: \"sequential\"\n",
            "_________________________________________________________________\n",
            " Layer (type)                Output Shape              Param #   \n",
            "=================================================================\n",
            " lstm (LSTM)                 (None, 3, 128)            66560     \n",
            "                                                                 \n",
            " dropout (Dropout)           (None, 3, 128)            0         \n",
            "                                                                 \n",
            " lstm_1 (LSTM)               (None, 64)                49408     \n",
            "                                                                 \n",
            " dense (Dense)               (None, 8)                 520       \n",
            "                                                                 \n",
            " dense_1 (Dense)             (None, 1)                 9         \n",
            "                                                                 \n",
            "=================================================================\n",
            "Total params: 116,497\n",
            "Trainable params: 116,497\n",
            "Non-trainable params: 0\n",
            "_________________________________________________________________\n"
          ]
        }
      ]
    },
    {
      "cell_type": "markdown",
      "source": [
        "#Compilando o modelo"
      ],
      "metadata": {
        "id": "dUx-BCvor9G4"
      }
    },
    {
      "cell_type": "code",
      "source": [
        "model.compile(optimizer = 'adam' , loss = 'mean_squared_error')"
      ],
      "metadata": {
        "id": "zRdogPrrn0uI"
      },
      "execution_count": null,
      "outputs": []
    },
    {
      "cell_type": "markdown",
      "source": [
        "#Treino do modelo"
      ],
      "metadata": {
        "id": "uFsZSslEsBAH"
      }
    },
    {
      "cell_type": "code",
      "metadata": {
        "colab": {
          "base_uri": "https://localhost:8080/"
        },
        "id": "DDb3bFj7OHHS",
        "outputId": "8abddc9f-6b5e-4125-850c-3951e8ecd3db"
      },
      "source": [
        "model.fit(x_train , y_train , epochs = 50 , batch_size = 1 , verbose = 1)"
      ],
      "execution_count": null,
      "outputs": [
        {
          "output_type": "stream",
          "name": "stdout",
          "text": [
            "Epoch 1/50\n",
            "2097/2097 [==============================] - 25s 10ms/step - loss: 0.0022\n",
            "Epoch 2/50\n",
            "2097/2097 [==============================] - 12s 6ms/step - loss: 8.3510e-04\n",
            "Epoch 3/50\n",
            "2097/2097 [==============================] - 13s 6ms/step - loss: 8.0643e-04\n",
            "Epoch 4/50\n",
            "2097/2097 [==============================] - 12s 6ms/step - loss: 7.0268e-04\n",
            "Epoch 5/50\n",
            "2097/2097 [==============================] - 12s 6ms/step - loss: 6.4832e-04\n",
            "Epoch 6/50\n",
            "2097/2097 [==============================] - 12s 6ms/step - loss: 6.8042e-04\n",
            "Epoch 7/50\n",
            "2097/2097 [==============================] - 11s 5ms/step - loss: 5.7639e-04\n",
            "Epoch 8/50\n",
            "2097/2097 [==============================] - 13s 6ms/step - loss: 5.8314e-04\n",
            "Epoch 9/50\n",
            "2097/2097 [==============================] - 12s 6ms/step - loss: 5.0453e-04\n",
            "Epoch 10/50\n",
            "2097/2097 [==============================] - 12s 6ms/step - loss: 5.0456e-04\n",
            "Epoch 11/50\n",
            "2097/2097 [==============================] - 12s 6ms/step - loss: 4.6260e-04\n",
            "Epoch 12/50\n",
            "2097/2097 [==============================] - 12s 6ms/step - loss: 4.4222e-04\n",
            "Epoch 13/50\n",
            "2097/2097 [==============================] - 12s 6ms/step - loss: 4.0981e-04\n",
            "Epoch 14/50\n",
            "2097/2097 [==============================] - 11s 5ms/step - loss: 4.1563e-04\n",
            "Epoch 15/50\n",
            "2097/2097 [==============================] - 11s 5ms/step - loss: 4.2155e-04\n",
            "Epoch 16/50\n",
            "2097/2097 [==============================] - 12s 6ms/step - loss: 4.4703e-04\n",
            "Epoch 17/50\n",
            "2097/2097 [==============================] - 11s 5ms/step - loss: 3.9600e-04\n",
            "Epoch 18/50\n",
            "2097/2097 [==============================] - 12s 6ms/step - loss: 3.7372e-04\n",
            "Epoch 19/50\n",
            "2097/2097 [==============================] - 11s 5ms/step - loss: 3.7224e-04\n",
            "Epoch 20/50\n",
            "2097/2097 [==============================] - 11s 5ms/step - loss: 3.9483e-04\n",
            "Epoch 21/50\n",
            "2097/2097 [==============================] - 11s 5ms/step - loss: 3.5527e-04\n",
            "Epoch 22/50\n",
            "2097/2097 [==============================] - 11s 5ms/step - loss: 3.5454e-04\n",
            "Epoch 23/50\n",
            "2097/2097 [==============================] - 11s 5ms/step - loss: 3.6692e-04\n",
            "Epoch 24/50\n",
            "2097/2097 [==============================] - 11s 5ms/step - loss: 3.8988e-04\n",
            "Epoch 25/50\n",
            "2097/2097 [==============================] - 12s 6ms/step - loss: 3.6370e-04\n",
            "Epoch 26/50\n",
            "2097/2097 [==============================] - 12s 6ms/step - loss: 3.3096e-04\n",
            "Epoch 27/50\n",
            "2097/2097 [==============================] - 12s 6ms/step - loss: 3.3505e-04\n",
            "Epoch 28/50\n",
            "2097/2097 [==============================] - 12s 6ms/step - loss: 3.8117e-04\n",
            "Epoch 29/50\n",
            "2097/2097 [==============================] - 12s 6ms/step - loss: 3.2765e-04\n",
            "Epoch 30/50\n",
            "2097/2097 [==============================] - 11s 5ms/step - loss: 3.2746e-04\n",
            "Epoch 31/50\n",
            "2097/2097 [==============================] - 12s 6ms/step - loss: 3.4269e-04\n",
            "Epoch 32/50\n",
            "2097/2097 [==============================] - 12s 6ms/step - loss: 3.1806e-04\n",
            "Epoch 33/50\n",
            "2097/2097 [==============================] - 12s 6ms/step - loss: 3.4866e-04\n",
            "Epoch 34/50\n",
            "2097/2097 [==============================] - 11s 5ms/step - loss: 3.3383e-04\n",
            "Epoch 35/50\n",
            "2097/2097 [==============================] - 11s 5ms/step - loss: 3.1742e-04\n",
            "Epoch 36/50\n",
            "2097/2097 [==============================] - 12s 6ms/step - loss: 3.1975e-04\n",
            "Epoch 37/50\n",
            "2097/2097 [==============================] - 12s 6ms/step - loss: 2.9952e-04\n",
            "Epoch 38/50\n",
            "2097/2097 [==============================] - 11s 5ms/step - loss: 3.1495e-04\n",
            "Epoch 39/50\n",
            "2097/2097 [==============================] - 12s 6ms/step - loss: 2.8938e-04\n",
            "Epoch 40/50\n",
            "2097/2097 [==============================] - 12s 6ms/step - loss: 2.8774e-04\n",
            "Epoch 41/50\n",
            "2097/2097 [==============================] - 12s 6ms/step - loss: 2.9781e-04\n",
            "Epoch 42/50\n",
            "2097/2097 [==============================] - 13s 6ms/step - loss: 2.9527e-04\n",
            "Epoch 43/50\n",
            "2097/2097 [==============================] - 13s 6ms/step - loss: 3.1227e-04\n",
            "Epoch 44/50\n",
            "2097/2097 [==============================] - 13s 6ms/step - loss: 2.9917e-04\n",
            "Epoch 45/50\n",
            "2097/2097 [==============================] - 12s 6ms/step - loss: 2.9471e-04\n",
            "Epoch 46/50\n",
            "2097/2097 [==============================] - 13s 6ms/step - loss: 3.0692e-04\n",
            "Epoch 47/50\n",
            "2097/2097 [==============================] - 12s 6ms/step - loss: 2.9084e-04\n",
            "Epoch 48/50\n",
            "2097/2097 [==============================] - 14s 7ms/step - loss: 3.1038e-04\n",
            "Epoch 49/50\n",
            "2097/2097 [==============================] - 13s 6ms/step - loss: 3.0860e-04\n",
            "Epoch 50/50\n",
            "2097/2097 [==============================] - 12s 6ms/step - loss: 3.2698e-04\n"
          ]
        },
        {
          "output_type": "execute_result",
          "data": {
            "text/plain": [
              "<keras.callbacks.History at 0x7faf27706810>"
            ]
          },
          "metadata": {},
          "execution_count": 21
        }
      ]
    },
    {
      "cell_type": "markdown",
      "metadata": {
        "id": "DHiURdEb0FMm"
      },
      "source": [
        "#Predição"
      ]
    },
    {
      "cell_type": "code",
      "metadata": {
        "colab": {
          "base_uri": "https://localhost:8080/"
        },
        "id": "zsK7epueMm_m",
        "outputId": "f1e3a091-3fc4-4876-f870-cf21dc809043"
      },
      "source": [
        "#prev = model.predict(x_test , batch_size = 1)\n",
        "prev = model.predict(x_test)\n",
        "prev.shape"
      ],
      "execution_count": null,
      "outputs": [
        {
          "output_type": "execute_result",
          "data": {
            "text/plain": [
              "(365, 1)"
            ]
          },
          "metadata": {},
          "execution_count": 22
        }
      ]
    },
    {
      "cell_type": "code",
      "metadata": {
        "colab": {
          "base_uri": "https://localhost:8080/"
        },
        "id": "irxXbSNUmKjF",
        "outputId": "fc93e7bf-4f38-421e-f3a2-153b3f4aac63"
      },
      "source": [
        "print(prev[0])"
      ],
      "execution_count": null,
      "outputs": [
        {
          "output_type": "stream",
          "name": "stdout",
          "text": [
            "[0.04481078]\n"
          ]
        }
      ]
    },
    {
      "cell_type": "markdown",
      "source": [
        "#Desfazendo o escalonamento"
      ],
      "metadata": {
        "id": "mqa5iLWRsMeX"
      }
    },
    {
      "cell_type": "markdown",
      "source": [
        "#Caso shape seja (1)"
      ],
      "metadata": {
        "id": "NY16tM13iQW-"
      }
    },
    {
      "cell_type": "code",
      "source": [
        "prev2 = []\n",
        "aux = 0;\n",
        "#prev.eval()\n",
        "for x in range(len(prev)): #Anterior prev agora vect\n",
        "  aux = prev[x] #(84,15,1) -- ESTÁ PEGANDO O ULTIMO DO VETOR [-1]\n",
        "  aux = aux.reshape(-1 , 1)\n",
        "  \n",
        "  prev2.append(scaler.inverse_transform(aux))\n",
        "  #prev2.append(aux)\n",
        "\n",
        "prev2"
      ],
      "metadata": {
        "colab": {
          "base_uri": "https://localhost:8080/"
        },
        "id": "zLGMtlZ8iTtH",
        "outputId": "18edfb2a-47a3-45d1-de57-3e3bf2ad1589"
      },
      "execution_count": null,
      "outputs": [
        {
          "output_type": "execute_result",
          "data": {
            "text/plain": [
              "[array([[22.775675]], dtype=float32),\n",
              " array([[22.746964]], dtype=float32),\n",
              " array([[22.71976]], dtype=float32),\n",
              " array([[22.702673]], dtype=float32),\n",
              " array([[22.591776]], dtype=float32),\n",
              " array([[22.750252]], dtype=float32),\n",
              " array([[23.047686]], dtype=float32),\n",
              " array([[23.206837]], dtype=float32),\n",
              " array([[23.684322]], dtype=float32),\n",
              " array([[24.026552]], dtype=float32),\n",
              " array([[24.03391]], dtype=float32),\n",
              " array([[24.261873]], dtype=float32),\n",
              " array([[24.281298]], dtype=float32),\n",
              " array([[24.399092]], dtype=float32),\n",
              " array([[24.800697]], dtype=float32),\n",
              " array([[25.334906]], dtype=float32),\n",
              " array([[25.332565]], dtype=float32),\n",
              " array([[25.854202]], dtype=float32),\n",
              " array([[25.540834]], dtype=float32),\n",
              " array([[25.942028]], dtype=float32),\n",
              " array([[26.51454]], dtype=float32),\n",
              " array([[26.12832]], dtype=float32),\n",
              " array([[26.18585]], dtype=float32),\n",
              " array([[26.88926]], dtype=float32),\n",
              " array([[26.476978]], dtype=float32),\n",
              " array([[26.699442]], dtype=float32),\n",
              " array([[26.987234]], dtype=float32),\n",
              " array([[26.07447]], dtype=float32),\n",
              " array([[26.366735]], dtype=float32),\n",
              " array([[26.267796]], dtype=float32),\n",
              " array([[26.889359]], dtype=float32),\n",
              " array([[26.70279]], dtype=float32),\n",
              " array([[26.63774]], dtype=float32),\n",
              " array([[26.078743]], dtype=float32),\n",
              " array([[25.934994]], dtype=float32),\n",
              " array([[25.103703]], dtype=float32),\n",
              " array([[25.268734]], dtype=float32),\n",
              " array([[25.536758]], dtype=float32),\n",
              " array([[25.409224]], dtype=float32),\n",
              " array([[25.451576]], dtype=float32),\n",
              " array([[24.902256]], dtype=float32),\n",
              " array([[24.993683]], dtype=float32),\n",
              " array([[24.61415]], dtype=float32),\n",
              " array([[25.166939]], dtype=float32),\n",
              " array([[24.38082]], dtype=float32),\n",
              " array([[24.552431]], dtype=float32),\n",
              " array([[25.028177]], dtype=float32),\n",
              " array([[24.913862]], dtype=float32),\n",
              " array([[25.385094]], dtype=float32),\n",
              " array([[24.597717]], dtype=float32),\n",
              " array([[24.922375]], dtype=float32),\n",
              " array([[24.42726]], dtype=float32),\n",
              " array([[24.287962]], dtype=float32),\n",
              " array([[24.349838]], dtype=float32),\n",
              " array([[24.828928]], dtype=float32),\n",
              " array([[25.02231]], dtype=float32),\n",
              " array([[24.47641]], dtype=float32),\n",
              " array([[24.542793]], dtype=float32),\n",
              " array([[24.259546]], dtype=float32),\n",
              " array([[24.6398]], dtype=float32),\n",
              " array([[25.07898]], dtype=float32),\n",
              " array([[25.132175]], dtype=float32),\n",
              " array([[25.370188]], dtype=float32),\n",
              " array([[25.222855]], dtype=float32),\n",
              " array([[25.637342]], dtype=float32),\n",
              " array([[25.085812]], dtype=float32),\n",
              " array([[25.179214]], dtype=float32),\n",
              " array([[25.30495]], dtype=float32),\n",
              " array([[25.913769]], dtype=float32),\n",
              " array([[25.748299]], dtype=float32),\n",
              " array([[25.587896]], dtype=float32),\n",
              " array([[26.511198]], dtype=float32),\n",
              " array([[27.384188]], dtype=float32),\n",
              " array([[27.560392]], dtype=float32),\n",
              " array([[27.662872]], dtype=float32),\n",
              " array([[29.098692]], dtype=float32),\n",
              " array([[28.875923]], dtype=float32),\n",
              " array([[28.316372]], dtype=float32),\n",
              " array([[27.931902]], dtype=float32),\n",
              " array([[28.112377]], dtype=float32),\n",
              " array([[29.010408]], dtype=float32),\n",
              " array([[28.81266]], dtype=float32),\n",
              " array([[28.246414]], dtype=float32),\n",
              " array([[28.131168]], dtype=float32),\n",
              " array([[28.391382]], dtype=float32),\n",
              " array([[28.469809]], dtype=float32),\n",
              " array([[27.932121]], dtype=float32),\n",
              " array([[28.17275]], dtype=float32),\n",
              " array([[28.521175]], dtype=float32),\n",
              " array([[28.157555]], dtype=float32),\n",
              " array([[28.907755]], dtype=float32),\n",
              " array([[28.710232]], dtype=float32),\n",
              " array([[29.171377]], dtype=float32),\n",
              " array([[29.418505]], dtype=float32),\n",
              " array([[29.647385]], dtype=float32),\n",
              " array([[29.7273]], dtype=float32),\n",
              " array([[29.41656]], dtype=float32),\n",
              " array([[29.70863]], dtype=float32),\n",
              " array([[29.730549]], dtype=float32),\n",
              " array([[29.697922]], dtype=float32),\n",
              " array([[29.919695]], dtype=float32),\n",
              " array([[30.676788]], dtype=float32),\n",
              " array([[30.724012]], dtype=float32),\n",
              " array([[30.561062]], dtype=float32),\n",
              " array([[30.468765]], dtype=float32),\n",
              " array([[30.381338]], dtype=float32),\n",
              " array([[29.955519]], dtype=float32),\n",
              " array([[30.780594]], dtype=float32),\n",
              " array([[31.30187]], dtype=float32),\n",
              " array([[31.756123]], dtype=float32),\n",
              " array([[31.6986]], dtype=float32),\n",
              " array([[31.40167]], dtype=float32),\n",
              " array([[31.29869]], dtype=float32),\n",
              " array([[31.250206]], dtype=float32),\n",
              " array([[31.473]], dtype=float32),\n",
              " array([[31.287083]], dtype=float32),\n",
              " array([[30.62987]], dtype=float32),\n",
              " array([[30.752506]], dtype=float32),\n",
              " array([[30.822044]], dtype=float32),\n",
              " array([[31.31862]], dtype=float32),\n",
              " array([[31.197496]], dtype=float32),\n",
              " array([[30.58974]], dtype=float32),\n",
              " array([[30.905874]], dtype=float32),\n",
              " array([[30.47335]], dtype=float32),\n",
              " array([[30.508474]], dtype=float32),\n",
              " array([[30.335243]], dtype=float32),\n",
              " array([[29.778164]], dtype=float32),\n",
              " array([[30.141127]], dtype=float32),\n",
              " array([[30.925888]], dtype=float32),\n",
              " array([[32.048676]], dtype=float32),\n",
              " array([[32.69749]], dtype=float32),\n",
              " array([[32.62664]], dtype=float32),\n",
              " array([[32.73741]], dtype=float32),\n",
              " array([[32.955044]], dtype=float32),\n",
              " array([[33.350452]], dtype=float32),\n",
              " array([[33.29543]], dtype=float32),\n",
              " array([[33.237183]], dtype=float32),\n",
              " array([[33.36502]], dtype=float32),\n",
              " array([[32.951965]], dtype=float32),\n",
              " array([[32.887314]], dtype=float32),\n",
              " array([[32.787247]], dtype=float32),\n",
              " array([[33.088173]], dtype=float32),\n",
              " array([[32.903706]], dtype=float32),\n",
              " array([[32.931343]], dtype=float32),\n",
              " array([[33.043205]], dtype=float32),\n",
              " array([[33.010113]], dtype=float32),\n",
              " array([[33.490692]], dtype=float32),\n",
              " array([[33.32377]], dtype=float32),\n",
              " array([[33.592243]], dtype=float32),\n",
              " array([[33.96468]], dtype=float32),\n",
              " array([[34.056904]], dtype=float32),\n",
              " array([[34.724503]], dtype=float32),\n",
              " array([[33.748978]], dtype=float32),\n",
              " array([[32.661583]], dtype=float32),\n",
              " array([[32.387596]], dtype=float32),\n",
              " array([[32.70794]], dtype=float32),\n",
              " array([[32.47882]], dtype=float32),\n",
              " array([[33.187584]], dtype=float32),\n",
              " array([[32.582207]], dtype=float32),\n",
              " array([[33.34505]], dtype=float32),\n",
              " array([[32.96921]], dtype=float32),\n",
              " array([[32.725914]], dtype=float32),\n",
              " array([[33.20648]], dtype=float32),\n",
              " array([[32.815193]], dtype=float32),\n",
              " array([[33.39632]], dtype=float32),\n",
              " array([[33.173325]], dtype=float32),\n",
              " array([[32.904564]], dtype=float32),\n",
              " array([[32.918903]], dtype=float32),\n",
              " array([[32.61105]], dtype=float32),\n",
              " array([[32.12978]], dtype=float32),\n",
              " array([[31.754648]], dtype=float32),\n",
              " array([[31.644554]], dtype=float32),\n",
              " array([[31.93728]], dtype=float32),\n",
              " array([[32.24914]], dtype=float32),\n",
              " array([[33.14678]], dtype=float32),\n",
              " array([[33.300274]], dtype=float32),\n",
              " array([[33.811054]], dtype=float32),\n",
              " array([[33.459858]], dtype=float32),\n",
              " array([[33.49195]], dtype=float32),\n",
              " array([[33.427208]], dtype=float32),\n",
              " array([[32.84846]], dtype=float32),\n",
              " array([[32.20771]], dtype=float32),\n",
              " array([[31.563755]], dtype=float32),\n",
              " array([[30.646564]], dtype=float32),\n",
              " array([[30.52854]], dtype=float32),\n",
              " array([[30.678078]], dtype=float32),\n",
              " array([[29.86311]], dtype=float32),\n",
              " array([[30.831835]], dtype=float32),\n",
              " array([[30.898174]], dtype=float32),\n",
              " array([[30.96388]], dtype=float32),\n",
              " array([[30.591227]], dtype=float32),\n",
              " array([[30.29175]], dtype=float32),\n",
              " array([[30.594698]], dtype=float32),\n",
              " array([[31.099495]], dtype=float32),\n",
              " array([[31.057058]], dtype=float32),\n",
              " array([[31.017334]], dtype=float32),\n",
              " array([[30.932745]], dtype=float32),\n",
              " array([[30.316929]], dtype=float32),\n",
              " array([[29.973618]], dtype=float32),\n",
              " array([[29.857258]], dtype=float32),\n",
              " array([[29.792847]], dtype=float32),\n",
              " array([[29.405943]], dtype=float32),\n",
              " array([[29.713192]], dtype=float32),\n",
              " array([[29.595097]], dtype=float32),\n",
              " array([[29.968493]], dtype=float32),\n",
              " array([[30.005674]], dtype=float32),\n",
              " array([[30.450846]], dtype=float32),\n",
              " array([[30.532215]], dtype=float32),\n",
              " array([[30.412094]], dtype=float32),\n",
              " array([[30.633667]], dtype=float32),\n",
              " array([[30.774149]], dtype=float32),\n",
              " array([[30.587282]], dtype=float32),\n",
              " array([[30.036589]], dtype=float32),\n",
              " array([[29.65671]], dtype=float32),\n",
              " array([[29.849535]], dtype=float32),\n",
              " array([[29.511917]], dtype=float32),\n",
              " array([[29.41474]], dtype=float32),\n",
              " array([[28.978907]], dtype=float32),\n",
              " array([[28.818022]], dtype=float32),\n",
              " array([[28.83852]], dtype=float32),\n",
              " array([[28.519545]], dtype=float32),\n",
              " array([[28.555712]], dtype=float32),\n",
              " array([[29.14219]], dtype=float32),\n",
              " array([[30.067804]], dtype=float32),\n",
              " array([[30.241037]], dtype=float32),\n",
              " array([[30.394318]], dtype=float32),\n",
              " array([[30.019497]], dtype=float32),\n",
              " array([[30.069735]], dtype=float32),\n",
              " array([[30.715046]], dtype=float32),\n",
              " array([[31.201935]], dtype=float32),\n",
              " array([[31.647564]], dtype=float32),\n",
              " array([[31.718817]], dtype=float32),\n",
              " array([[31.841671]], dtype=float32),\n",
              " array([[31.790766]], dtype=float32),\n",
              " array([[31.308107]], dtype=float32),\n",
              " array([[31.519411]], dtype=float32),\n",
              " array([[31.701807]], dtype=float32),\n",
              " array([[31.465508]], dtype=float32),\n",
              " array([[31.61755]], dtype=float32),\n",
              " array([[31.416481]], dtype=float32),\n",
              " array([[30.9712]], dtype=float32),\n",
              " array([[30.906273]], dtype=float32),\n",
              " array([[30.798166]], dtype=float32),\n",
              " array([[31.451744]], dtype=float32),\n",
              " array([[31.846123]], dtype=float32),\n",
              " array([[32.583584]], dtype=float32),\n",
              " array([[32.65908]], dtype=float32),\n",
              " array([[32.49287]], dtype=float32),\n",
              " array([[33.051064]], dtype=float32),\n",
              " array([[32.825066]], dtype=float32),\n",
              " array([[32.980164]], dtype=float32),\n",
              " array([[32.82378]], dtype=float32),\n",
              " array([[32.725887]], dtype=float32),\n",
              " array([[33.119358]], dtype=float32),\n",
              " array([[33.388863]], dtype=float32),\n",
              " array([[33.79465]], dtype=float32),\n",
              " array([[33.831005]], dtype=float32),\n",
              " array([[33.843605]], dtype=float32),\n",
              " array([[33.78703]], dtype=float32),\n",
              " array([[33.307777]], dtype=float32),\n",
              " array([[33.18314]], dtype=float32),\n",
              " array([[33.15718]], dtype=float32),\n",
              " array([[33.077755]], dtype=float32),\n",
              " array([[33.74819]], dtype=float32),\n",
              " array([[33.128773]], dtype=float32),\n",
              " array([[33.670513]], dtype=float32),\n",
              " array([[33.745647]], dtype=float32),\n",
              " array([[33.868446]], dtype=float32),\n",
              " array([[33.17871]], dtype=float32),\n",
              " array([[33.538475]], dtype=float32),\n",
              " array([[33.45503]], dtype=float32),\n",
              " array([[32.768627]], dtype=float32),\n",
              " array([[31.983494]], dtype=float32),\n",
              " array([[31.805431]], dtype=float32),\n",
              " array([[31.714312]], dtype=float32),\n",
              " array([[31.38093]], dtype=float32),\n",
              " array([[32.127155]], dtype=float32),\n",
              " array([[32.936676]], dtype=float32),\n",
              " array([[33.306896]], dtype=float32),\n",
              " array([[33.413204]], dtype=float32),\n",
              " array([[32.383312]], dtype=float32),\n",
              " array([[32.70914]], dtype=float32),\n",
              " array([[31.95927]], dtype=float32),\n",
              " array([[31.935102]], dtype=float32),\n",
              " array([[31.742077]], dtype=float32),\n",
              " array([[31.609818]], dtype=float32),\n",
              " array([[31.301615]], dtype=float32),\n",
              " array([[31.452028]], dtype=float32),\n",
              " array([[31.009705]], dtype=float32),\n",
              " array([[30.704569]], dtype=float32),\n",
              " array([[30.60548]], dtype=float32),\n",
              " array([[30.85148]], dtype=float32),\n",
              " array([[31.14594]], dtype=float32),\n",
              " array([[31.358099]], dtype=float32),\n",
              " array([[31.318893]], dtype=float32),\n",
              " array([[31.017494]], dtype=float32),\n",
              " array([[30.47537]], dtype=float32),\n",
              " array([[30.558517]], dtype=float32),\n",
              " array([[31.194065]], dtype=float32),\n",
              " array([[32.055435]], dtype=float32),\n",
              " array([[32.847095]], dtype=float32),\n",
              " array([[32.6499]], dtype=float32),\n",
              " array([[32.64167]], dtype=float32),\n",
              " array([[32.678158]], dtype=float32),\n",
              " array([[32.99305]], dtype=float32),\n",
              " array([[32.615]], dtype=float32),\n",
              " array([[32.748436]], dtype=float32),\n",
              " array([[32.570957]], dtype=float32),\n",
              " array([[32.16369]], dtype=float32),\n",
              " array([[32.170124]], dtype=float32),\n",
              " array([[32.003555]], dtype=float32),\n",
              " array([[31.747614]], dtype=float32),\n",
              " array([[32.005325]], dtype=float32),\n",
              " array([[32.66908]], dtype=float32),\n",
              " array([[32.66836]], dtype=float32),\n",
              " array([[32.50173]], dtype=float32),\n",
              " array([[31.856115]], dtype=float32),\n",
              " array([[31.00017]], dtype=float32),\n",
              " array([[30.834957]], dtype=float32),\n",
              " array([[30.843502]], dtype=float32),\n",
              " array([[30.388094]], dtype=float32),\n",
              " array([[30.249979]], dtype=float32),\n",
              " array([[30.572994]], dtype=float32),\n",
              " array([[30.746117]], dtype=float32),\n",
              " array([[31.161392]], dtype=float32),\n",
              " array([[31.63332]], dtype=float32),\n",
              " array([[31.672579]], dtype=float32),\n",
              " array([[32.12476]], dtype=float32),\n",
              " array([[31.980219]], dtype=float32),\n",
              " array([[31.749031]], dtype=float32),\n",
              " array([[32.10826]], dtype=float32),\n",
              " array([[32.812057]], dtype=float32),\n",
              " array([[33.28063]], dtype=float32),\n",
              " array([[33.644875]], dtype=float32),\n",
              " array([[33.914814]], dtype=float32),\n",
              " array([[34.27987]], dtype=float32),\n",
              " array([[33.926666]], dtype=float32),\n",
              " array([[34.1415]], dtype=float32),\n",
              " array([[33.603737]], dtype=float32),\n",
              " array([[33.69963]], dtype=float32),\n",
              " array([[33.667587]], dtype=float32),\n",
              " array([[34.11232]], dtype=float32),\n",
              " array([[33.83568]], dtype=float32),\n",
              " array([[34.083023]], dtype=float32),\n",
              " array([[33.63343]], dtype=float32),\n",
              " array([[33.75144]], dtype=float32),\n",
              " array([[33.23833]], dtype=float32),\n",
              " array([[32.970665]], dtype=float32),\n",
              " array([[33.00878]], dtype=float32),\n",
              " array([[32.844067]], dtype=float32),\n",
              " array([[32.600597]], dtype=float32),\n",
              " array([[32.807865]], dtype=float32),\n",
              " array([[32.919334]], dtype=float32),\n",
              " array([[32.64552]], dtype=float32),\n",
              " array([[32.12619]], dtype=float32),\n",
              " array([[32.145855]], dtype=float32),\n",
              " array([[31.972595]], dtype=float32),\n",
              " array([[32.146248]], dtype=float32),\n",
              " array([[32.492023]], dtype=float32),\n",
              " array([[32.553993]], dtype=float32),\n",
              " array([[33.525913]], dtype=float32),\n",
              " array([[33.508442]], dtype=float32),\n",
              " array([[33.338387]], dtype=float32),\n",
              " array([[33.77089]], dtype=float32),\n",
              " array([[33.31697]], dtype=float32)]"
            ]
          },
          "metadata": {},
          "execution_count": 24
        }
      ]
    },
    {
      "cell_type": "markdown",
      "source": [
        "Shape > 1"
      ],
      "metadata": {
        "id": "-ESHzG63sRnO"
      }
    },
    {
      "cell_type": "code",
      "metadata": {
        "id": "yInnBTfj0D84",
        "colab": {
          "base_uri": "https://localhost:8080/",
          "height": 53
        },
        "outputId": "036eeac6-808b-4ee2-e31a-b0fc66199e78"
      },
      "source": [
        "'''\n",
        "prev2 = []\n",
        "aux = 0;\n",
        "#prev.eval()\n",
        "for x in range(len(prev)): #Anterior prev agora vect\n",
        "  aux = prev[x][-1] #(84,15,1) -- ESTÁ PEGANDO O ULTIMO DO VETOR [-1]\n",
        "  aux = aux.reshape(-1 , 1)\n",
        "  \n",
        "  prev2.append(scaler.inverse_transform(aux))\n",
        "  #prev2.append(aux)\n",
        "\n",
        "prev2 '''"
      ],
      "execution_count": null,
      "outputs": [
        {
          "output_type": "execute_result",
          "data": {
            "text/plain": [
              "'\\nprev2 = []\\naux = 0;\\n#prev.eval()\\nfor x in range(len(prev)): #Anterior prev agora vect\\n  aux = prev[x][-1] #(84,15,1) -- ESTÁ PEGANDO O ULTIMO DO VETOR [-1]\\n  aux = aux.reshape(-1 , 1)\\n  \\n  prev2.append(scaler.inverse_transform(aux))\\n  #prev2.append(aux)\\n\\nprev2 '"
            ],
            "application/vnd.google.colaboratory.intrinsic+json": {
              "type": "string"
            }
          },
          "metadata": {},
          "execution_count": 25
        }
      ]
    },
    {
      "cell_type": "markdown",
      "source": [
        "Retirando dados dos vetores internos"
      ],
      "metadata": {
        "id": "BP2I6Rwasc_X"
      }
    },
    {
      "cell_type": "code",
      "metadata": {
        "colab": {
          "base_uri": "https://localhost:8080/"
        },
        "id": "W4fVndElH5V9",
        "outputId": "5bfd9807-5730-466e-b0db-b1ca82d86a43"
      },
      "source": [
        "#prev2 = prev\n",
        "prev3 = []\n",
        "for x in range(len(prev2)):\n",
        "  prev3.append(prev2[x][0][0])\n",
        "\n",
        "prev3"
      ],
      "execution_count": null,
      "outputs": [
        {
          "output_type": "execute_result",
          "data": {
            "text/plain": [
              "[22.775675,\n",
              " 22.746964,\n",
              " 22.71976,\n",
              " 22.702673,\n",
              " 22.591776,\n",
              " 22.750252,\n",
              " 23.047686,\n",
              " 23.206837,\n",
              " 23.684322,\n",
              " 24.026552,\n",
              " 24.03391,\n",
              " 24.261873,\n",
              " 24.281298,\n",
              " 24.399092,\n",
              " 24.800697,\n",
              " 25.334906,\n",
              " 25.332565,\n",
              " 25.854202,\n",
              " 25.540834,\n",
              " 25.942028,\n",
              " 26.51454,\n",
              " 26.12832,\n",
              " 26.18585,\n",
              " 26.88926,\n",
              " 26.476978,\n",
              " 26.699442,\n",
              " 26.987234,\n",
              " 26.07447,\n",
              " 26.366735,\n",
              " 26.267796,\n",
              " 26.889359,\n",
              " 26.70279,\n",
              " 26.63774,\n",
              " 26.078743,\n",
              " 25.934994,\n",
              " 25.103703,\n",
              " 25.268734,\n",
              " 25.536758,\n",
              " 25.409224,\n",
              " 25.451576,\n",
              " 24.902256,\n",
              " 24.993683,\n",
              " 24.61415,\n",
              " 25.166939,\n",
              " 24.38082,\n",
              " 24.552431,\n",
              " 25.028177,\n",
              " 24.913862,\n",
              " 25.385094,\n",
              " 24.597717,\n",
              " 24.922375,\n",
              " 24.42726,\n",
              " 24.287962,\n",
              " 24.349838,\n",
              " 24.828928,\n",
              " 25.02231,\n",
              " 24.47641,\n",
              " 24.542793,\n",
              " 24.259546,\n",
              " 24.6398,\n",
              " 25.07898,\n",
              " 25.132175,\n",
              " 25.370188,\n",
              " 25.222855,\n",
              " 25.637342,\n",
              " 25.085812,\n",
              " 25.179214,\n",
              " 25.30495,\n",
              " 25.913769,\n",
              " 25.748299,\n",
              " 25.587896,\n",
              " 26.511198,\n",
              " 27.384188,\n",
              " 27.560392,\n",
              " 27.662872,\n",
              " 29.098692,\n",
              " 28.875923,\n",
              " 28.316372,\n",
              " 27.931902,\n",
              " 28.112377,\n",
              " 29.010408,\n",
              " 28.81266,\n",
              " 28.246414,\n",
              " 28.131168,\n",
              " 28.391382,\n",
              " 28.469809,\n",
              " 27.932121,\n",
              " 28.17275,\n",
              " 28.521175,\n",
              " 28.157555,\n",
              " 28.907755,\n",
              " 28.710232,\n",
              " 29.171377,\n",
              " 29.418505,\n",
              " 29.647385,\n",
              " 29.7273,\n",
              " 29.41656,\n",
              " 29.70863,\n",
              " 29.730549,\n",
              " 29.697922,\n",
              " 29.919695,\n",
              " 30.676788,\n",
              " 30.724012,\n",
              " 30.561062,\n",
              " 30.468765,\n",
              " 30.381338,\n",
              " 29.955519,\n",
              " 30.780594,\n",
              " 31.30187,\n",
              " 31.756123,\n",
              " 31.6986,\n",
              " 31.40167,\n",
              " 31.29869,\n",
              " 31.250206,\n",
              " 31.473,\n",
              " 31.287083,\n",
              " 30.62987,\n",
              " 30.752506,\n",
              " 30.822044,\n",
              " 31.31862,\n",
              " 31.197496,\n",
              " 30.58974,\n",
              " 30.905874,\n",
              " 30.47335,\n",
              " 30.508474,\n",
              " 30.335243,\n",
              " 29.778164,\n",
              " 30.141127,\n",
              " 30.925888,\n",
              " 32.048676,\n",
              " 32.69749,\n",
              " 32.62664,\n",
              " 32.73741,\n",
              " 32.955044,\n",
              " 33.350452,\n",
              " 33.29543,\n",
              " 33.237183,\n",
              " 33.36502,\n",
              " 32.951965,\n",
              " 32.887314,\n",
              " 32.787247,\n",
              " 33.088173,\n",
              " 32.903706,\n",
              " 32.931343,\n",
              " 33.043205,\n",
              " 33.010113,\n",
              " 33.490692,\n",
              " 33.32377,\n",
              " 33.592243,\n",
              " 33.96468,\n",
              " 34.056904,\n",
              " 34.724503,\n",
              " 33.748978,\n",
              " 32.661583,\n",
              " 32.387596,\n",
              " 32.70794,\n",
              " 32.47882,\n",
              " 33.187584,\n",
              " 32.582207,\n",
              " 33.34505,\n",
              " 32.96921,\n",
              " 32.725914,\n",
              " 33.20648,\n",
              " 32.815193,\n",
              " 33.39632,\n",
              " 33.173325,\n",
              " 32.904564,\n",
              " 32.918903,\n",
              " 32.61105,\n",
              " 32.12978,\n",
              " 31.754648,\n",
              " 31.644554,\n",
              " 31.93728,\n",
              " 32.24914,\n",
              " 33.14678,\n",
              " 33.300274,\n",
              " 33.811054,\n",
              " 33.459858,\n",
              " 33.49195,\n",
              " 33.427208,\n",
              " 32.84846,\n",
              " 32.20771,\n",
              " 31.563755,\n",
              " 30.646564,\n",
              " 30.52854,\n",
              " 30.678078,\n",
              " 29.86311,\n",
              " 30.831835,\n",
              " 30.898174,\n",
              " 30.96388,\n",
              " 30.591227,\n",
              " 30.29175,\n",
              " 30.594698,\n",
              " 31.099495,\n",
              " 31.057058,\n",
              " 31.017334,\n",
              " 30.932745,\n",
              " 30.316929,\n",
              " 29.973618,\n",
              " 29.857258,\n",
              " 29.792847,\n",
              " 29.405943,\n",
              " 29.713192,\n",
              " 29.595097,\n",
              " 29.968493,\n",
              " 30.005674,\n",
              " 30.450846,\n",
              " 30.532215,\n",
              " 30.412094,\n",
              " 30.633667,\n",
              " 30.774149,\n",
              " 30.587282,\n",
              " 30.036589,\n",
              " 29.65671,\n",
              " 29.849535,\n",
              " 29.511917,\n",
              " 29.41474,\n",
              " 28.978907,\n",
              " 28.818022,\n",
              " 28.83852,\n",
              " 28.519545,\n",
              " 28.555712,\n",
              " 29.14219,\n",
              " 30.067804,\n",
              " 30.241037,\n",
              " 30.394318,\n",
              " 30.019497,\n",
              " 30.069735,\n",
              " 30.715046,\n",
              " 31.201935,\n",
              " 31.647564,\n",
              " 31.718817,\n",
              " 31.841671,\n",
              " 31.790766,\n",
              " 31.308107,\n",
              " 31.519411,\n",
              " 31.701807,\n",
              " 31.465508,\n",
              " 31.61755,\n",
              " 31.416481,\n",
              " 30.9712,\n",
              " 30.906273,\n",
              " 30.798166,\n",
              " 31.451744,\n",
              " 31.846123,\n",
              " 32.583584,\n",
              " 32.65908,\n",
              " 32.49287,\n",
              " 33.051064,\n",
              " 32.825066,\n",
              " 32.980164,\n",
              " 32.82378,\n",
              " 32.725887,\n",
              " 33.119358,\n",
              " 33.388863,\n",
              " 33.79465,\n",
              " 33.831005,\n",
              " 33.843605,\n",
              " 33.78703,\n",
              " 33.307777,\n",
              " 33.18314,\n",
              " 33.15718,\n",
              " 33.077755,\n",
              " 33.74819,\n",
              " 33.128773,\n",
              " 33.670513,\n",
              " 33.745647,\n",
              " 33.868446,\n",
              " 33.17871,\n",
              " 33.538475,\n",
              " 33.45503,\n",
              " 32.768627,\n",
              " 31.983494,\n",
              " 31.805431,\n",
              " 31.714312,\n",
              " 31.38093,\n",
              " 32.127155,\n",
              " 32.936676,\n",
              " 33.306896,\n",
              " 33.413204,\n",
              " 32.383312,\n",
              " 32.70914,\n",
              " 31.95927,\n",
              " 31.935102,\n",
              " 31.742077,\n",
              " 31.609818,\n",
              " 31.301615,\n",
              " 31.452028,\n",
              " 31.009705,\n",
              " 30.704569,\n",
              " 30.60548,\n",
              " 30.85148,\n",
              " 31.14594,\n",
              " 31.358099,\n",
              " 31.318893,\n",
              " 31.017494,\n",
              " 30.47537,\n",
              " 30.558517,\n",
              " 31.194065,\n",
              " 32.055435,\n",
              " 32.847095,\n",
              " 32.6499,\n",
              " 32.64167,\n",
              " 32.678158,\n",
              " 32.99305,\n",
              " 32.615,\n",
              " 32.748436,\n",
              " 32.570957,\n",
              " 32.16369,\n",
              " 32.170124,\n",
              " 32.003555,\n",
              " 31.747614,\n",
              " 32.005325,\n",
              " 32.66908,\n",
              " 32.66836,\n",
              " 32.50173,\n",
              " 31.856115,\n",
              " 31.00017,\n",
              " 30.834957,\n",
              " 30.843502,\n",
              " 30.388094,\n",
              " 30.249979,\n",
              " 30.572994,\n",
              " 30.746117,\n",
              " 31.161392,\n",
              " 31.63332,\n",
              " 31.672579,\n",
              " 32.12476,\n",
              " 31.980219,\n",
              " 31.749031,\n",
              " 32.10826,\n",
              " 32.812057,\n",
              " 33.28063,\n",
              " 33.644875,\n",
              " 33.914814,\n",
              " 34.27987,\n",
              " 33.926666,\n",
              " 34.1415,\n",
              " 33.603737,\n",
              " 33.69963,\n",
              " 33.667587,\n",
              " 34.11232,\n",
              " 33.83568,\n",
              " 34.083023,\n",
              " 33.63343,\n",
              " 33.75144,\n",
              " 33.23833,\n",
              " 32.970665,\n",
              " 33.00878,\n",
              " 32.844067,\n",
              " 32.600597,\n",
              " 32.807865,\n",
              " 32.919334,\n",
              " 32.64552,\n",
              " 32.12619,\n",
              " 32.145855,\n",
              " 31.972595,\n",
              " 32.146248,\n",
              " 32.492023,\n",
              " 32.553993,\n",
              " 33.525913,\n",
              " 33.508442,\n",
              " 33.338387,\n",
              " 33.77089,\n",
              " 33.31697]"
            ]
          },
          "metadata": {},
          "execution_count": 26
        }
      ]
    },
    {
      "cell_type": "markdown",
      "source": [
        "#Unindo as colunas de Teste(close) e Previsão"
      ],
      "metadata": {
        "id": "hjC8QUamsnl-"
      }
    },
    {
      "cell_type": "markdown",
      "source": [
        "Verificando o type de prev3 & testing_data"
      ],
      "metadata": {
        "id": "DGP1BvrIWOnf"
      }
    },
    {
      "cell_type": "code",
      "source": [
        "print(type(prev3) , type(testing_data))"
      ],
      "metadata": {
        "colab": {
          "base_uri": "https://localhost:8080/"
        },
        "id": "rumF1z5-WYOH",
        "outputId": "86ecbf4c-2856-4097-ce99-f6228303b508"
      },
      "execution_count": null,
      "outputs": [
        {
          "output_type": "stream",
          "name": "stdout",
          "text": [
            "<class 'list'> <class 'pandas.core.frame.DataFrame'>\n"
          ]
        }
      ]
    },
    {
      "cell_type": "markdown",
      "source": [
        "Vetificando o Shape de prev3 & testing_data antes de adcionar a coluna(prev3) , precisam ter a msma indexação "
      ],
      "metadata": {
        "id": "VyMubx4_X_jG"
      }
    },
    {
      "cell_type": "code",
      "source": [
        "print(len(prev3) , testing_data.shape)"
      ],
      "metadata": {
        "colab": {
          "base_uri": "https://localhost:8080/"
        },
        "id": "7G80DIfhYOPN",
        "outputId": "ebf95e5a-f800-4390-d7a7-f658b5186be3"
      },
      "execution_count": null,
      "outputs": [
        {
          "output_type": "stream",
          "name": "stdout",
          "text": [
            "365 (368, 1)\n"
          ]
        }
      ]
    },
    {
      "cell_type": "code",
      "source": [
        "print(testing_data)"
      ],
      "metadata": {
        "colab": {
          "base_uri": "https://localhost:8080/"
        },
        "id": "qBUwkxIQf8D8",
        "outputId": "b7687562-d89b-4695-afe1-95d95dcd9af9"
      },
      "execution_count": null,
      "outputs": [
        {
          "output_type": "stream",
          "name": "stdout",
          "text": [
            "                Close\n",
            "Date                 \n",
            "2018-06-19  22.667498\n",
            "2018-06-20  23.087698\n",
            "2018-06-21  22.471785\n",
            "2018-06-22  22.644464\n",
            "2018-06-25  22.690521\n",
            "...               ...\n",
            "2019-12-05  33.684460\n",
            "2019-12-06  33.075542\n",
            "2019-12-09  33.721371\n",
            "2019-12-10  33.232399\n",
            "2019-12-11  32.844906\n",
            "\n",
            "[368 rows x 1 columns]\n"
          ]
        }
      ]
    },
    {
      "cell_type": "markdown",
      "source": [
        "Verificando o index das datas"
      ],
      "metadata": {
        "id": "UvpWgy0bsyaW"
      }
    },
    {
      "cell_type": "code",
      "source": [
        "datas = []\n",
        "\n",
        "#for i in range(3):\n",
        "#  datas = testing_data['Date'][i]\n",
        "\n",
        "index = testing_data.index\n",
        "print(index[3 :])"
      ],
      "metadata": {
        "colab": {
          "base_uri": "https://localhost:8080/"
        },
        "id": "Qsp5jXRa8RuT",
        "outputId": "456929cd-891c-4e21-a004-5dd70a820ef6"
      },
      "execution_count": null,
      "outputs": [
        {
          "output_type": "stream",
          "name": "stdout",
          "text": [
            "DatetimeIndex(['2018-06-22', '2018-06-25', '2018-06-26', '2018-06-27',\n",
            "               '2018-06-28', '2018-06-29', '2018-07-02', '2018-07-03',\n",
            "               '2018-07-04', '2018-07-05',\n",
            "               ...\n",
            "               '2019-11-28', '2019-11-29', '2019-12-02', '2019-12-03',\n",
            "               '2019-12-04', '2019-12-05', '2019-12-06', '2019-12-09',\n",
            "               '2019-12-10', '2019-12-11'],\n",
            "              dtype='datetime64[ns]', name='Date', length=365, freq=None)\n"
          ]
        }
      ]
    },
    {
      "cell_type": "markdown",
      "source": [
        "Dropando/excluido primeira linha do DF"
      ],
      "metadata": {
        "id": "kCIVV-TRd5DG"
      }
    },
    {
      "cell_type": "code",
      "source": [
        "resultado = testing_data.drop( testing_data.index[0 : 3] , axis = 0)"
      ],
      "metadata": {
        "id": "pjQxVY60d9ne"
      },
      "execution_count": null,
      "outputs": []
    },
    {
      "cell_type": "code",
      "source": [
        "print(resultado)"
      ],
      "metadata": {
        "colab": {
          "base_uri": "https://localhost:8080/"
        },
        "id": "Wi3t6f7T0U5R",
        "outputId": "2a41e61f-6aac-4c1c-872d-dcde338edd3d"
      },
      "execution_count": null,
      "outputs": [
        {
          "output_type": "stream",
          "name": "stdout",
          "text": [
            "                Close\n",
            "Date                 \n",
            "2018-06-22  22.644464\n",
            "2018-06-25  22.690521\n",
            "2018-06-26  22.615686\n",
            "2018-06-27  22.207012\n",
            "2018-06-28  22.822914\n",
            "...               ...\n",
            "2019-12-05  33.684460\n",
            "2019-12-06  33.075542\n",
            "2019-12-09  33.721371\n",
            "2019-12-10  33.232399\n",
            "2019-12-11  32.844906\n",
            "\n",
            "[365 rows x 1 columns]\n"
          ]
        }
      ]
    },
    {
      "cell_type": "markdown",
      "source": [
        "Jogando prev para o msm DATA FRAME que testing_data"
      ],
      "metadata": {
        "id": "ljZoeC_rWIYo"
      }
    },
    {
      "cell_type": "code",
      "source": [
        "resultado['previsão'] = prev3"
      ],
      "metadata": {
        "id": "RzAhI15kX4n9"
      },
      "execution_count": null,
      "outputs": []
    },
    {
      "cell_type": "code",
      "source": [
        "print(resultado)"
      ],
      "metadata": {
        "colab": {
          "base_uri": "https://localhost:8080/"
        },
        "id": "Npd-6BJ6hsjK",
        "outputId": "d024e364-1168-49b8-9f6e-986e1da243f6"
      },
      "execution_count": null,
      "outputs": [
        {
          "output_type": "stream",
          "name": "stdout",
          "text": [
            "                Close   previsão\n",
            "Date                            \n",
            "2018-06-22  22.644464  22.775675\n",
            "2018-06-25  22.690521  22.746964\n",
            "2018-06-26  22.615686  22.719761\n",
            "2018-06-27  22.207012  22.702673\n",
            "2018-06-28  22.822914  22.591776\n",
            "...               ...        ...\n",
            "2019-12-05  33.684460  33.525913\n",
            "2019-12-06  33.075542  33.508442\n",
            "2019-12-09  33.721371  33.338387\n",
            "2019-12-10  33.232399  33.770889\n",
            "2019-12-11  32.844906  33.316971\n",
            "\n",
            "[365 rows x 2 columns]\n"
          ]
        }
      ]
    },
    {
      "cell_type": "markdown",
      "source": [
        "#PLOTAGEM"
      ],
      "metadata": {
        "id": "2F6fvv5Ss6KP"
      }
    },
    {
      "cell_type": "code",
      "metadata": {
        "colab": {
          "base_uri": "https://localhost:8080/",
          "height": 863
        },
        "id": "BnKK8JVa40ZB",
        "outputId": "ff090457-3eb5-48a2-a88d-1731df8ffde3"
      },
      "source": [
        "#testing_data = testing_data['Close'].values\n",
        "\n",
        "#plt.plot(prev3 , color = 'blue' , label = 'Preço Previsto' )\n",
        "plt.plot(resultado['Close'] , color = 'red' , label = 'Preço Real')\n",
        "plt.plot(resultado['previsão'] , color = 'blue' , label = 'Preço previsto' )\n",
        "\n",
        "plt.legend()\n",
        "plt.show()"
      ],
      "execution_count": null,
      "outputs": [
        {
          "output_type": "display_data",
          "data": {
            "text/plain": [
              "<Figure size 1440x1080 with 1 Axes>"
            ],
            "image/png": "[encoded data removed]"
          },
          "metadata": {
            "needs_background": "light"
          }
        }
      ]
    },
    {
      "cell_type": "markdown",
      "source": [
        "Avaliar mean_squared_error"
      ],
      "metadata": {
        "id": "acUW82Ljl7Ct"
      }
    },
    {
      "cell_type": "code",
      "source": [
        "rmse = sqrt(mean_squared_error(resultado['Close'],resultado['previsão']))\n",
        "print('Test RMSE: %.3f' % rmse)"
      ],
      "metadata": {
        "colab": {
          "base_uri": "https://localhost:8080/"
        },
        "id": "0RQZobxUffpS",
        "outputId": "bcd32454-90c4-4b9f-c98d-88e282bb49e0"
      },
      "execution_count": null,
      "outputs": [
        {
          "output_type": "stream",
          "name": "stdout",
          "text": [
            "Test RMSE: 0.525\n"
          ]
        }
      ]
    },
    {
      "cell_type": "markdown",
      "source": [
        "Dropar coluna previsão"
      ],
      "metadata": {
        "id": "MxfZCdCWw7Zr"
      }
    },
    {
      "cell_type": "code",
      "source": [
        "'''resultado.drop('previsão' , axis =1 , inplace= True )\n",
        "\n",
        "print(testing_data)'''"
      ],
      "metadata": {
        "colab": {
          "base_uri": "https://localhost:8080/",
          "height": 35
        },
        "id": "hXpvf7HGxADk",
        "outputId": "34a42270-fdea-4426-8ffe-93d8b5d2c079"
      },
      "execution_count": null,
      "outputs": [
        {
          "output_type": "execute_result",
          "data": {
            "text/plain": [
              "\"resultado.drop('previsão' , axis =1 , inplace= True )\\n\\nprint(testing_data)\""
            ],
            "application/vnd.google.colaboratory.intrinsic+json": {
              "type": "string"
            }
          },
          "metadata": {},
          "execution_count": 37
        }
      ]
    },
    {
      "cell_type": "markdown",
      "source": [
        "# Fechamento dia RESULTADO"
      ],
      "metadata": {
        "id": "8bNoeDRE4c1a"
      }
    },
    {
      "cell_type": "code",
      "source": [
        "cash = 100.0\n",
        "min = 100.0\n",
        "max = 100.0\n",
        "\n",
        "close = 0\n",
        "prev = 0\n",
        "\n",
        "putcall = False\n",
        "longshort = False\n",
        "\n",
        "acertos = 0\n",
        "erros = 0\n",
        "\n",
        "lucroperda = 0\n",
        "\n",
        "df3 = resultado\n",
        "\n",
        "#prev = df['Close'][0] - df['previsão'][1]\n",
        "#print(prev)\n",
        "\n",
        "\n",
        "for x in range(len(df)):\n",
        "    \n",
        "    putcall = False\n",
        "    longshort = False\n",
        "\n",
        "    if( x+1 == len(df3)):\n",
        "        break\n",
        "    else:\n",
        "        close = df3['Close'][x]\n",
        "        prev = df3['previsão'][x+1]\n",
        "        if(prev > close):\n",
        "            putcall = True\n",
        "        else:\n",
        "            putcall = False\n",
        "\n",
        "        lucroperda =  abs(df3['Close'][x] - df3['Close'][x+1])\n",
        "\n",
        "        if(df3['Close'][x] < df3['Close'][x+1]):\n",
        "            longshort = True\n",
        "        else:\n",
        "            longshort = False\n",
        "        \n",
        "        if(longshort != putcall):\n",
        "            cash = cash - lucroperda \n",
        "            erros = erros + 1\n",
        "            if(cash < min):\n",
        "                min = cash\n",
        "        else:\n",
        "            cash = cash + lucroperda \n",
        "            acertos = acertos + 1\n",
        "            if(cash > max):\n",
        "                max = cash\n",
        "        \n",
        "\n",
        "\n",
        "print(cash)\n",
        "print(\"Total:\" , len(df3) , \" Acertos: \", acertos , \" Erros: \" , erros , \" MAX: \" , max , \" MIN: \", min )\n",
        "print(\"Valorização Buy and Hold\" , df3['Close'][0] , \" --- \" , df3['Close'].iloc[-1]) "
      ],
      "metadata": {
        "colab": {
          "base_uri": "https://localhost:8080/"
        },
        "id": "qrLfWYLdapyk",
        "outputId": "9679fd68-7475-48dc-ae66-d70017d13521"
      },
      "execution_count": null,
      "outputs": [
        {
          "output_type": "stream",
          "name": "stdout",
          "text": [
            "107.80282783508301\n",
            "Total: 365  Acertos:  194  Erros:  170  MAX:  116.48112678527832  MIN:  98.5749740600586\n",
            "Valorização Buy and Hold 22.64446449279785  ---  32.844905853271484\n"
          ]
        }
      ]
    },
    {
      "cell_type": "markdown",
      "source": [
        "# CSV"
      ],
      "metadata": {
        "id": "6esrFFv54i07"
      }
    },
    {
      "cell_type": "code",
      "source": [
        "resultado.to_csv('itau_LSTM_50ep.csv')"
      ],
      "metadata": {
        "id": "iItvwvKSibYz"
      },
      "execution_count": null,
      "outputs": []
    }
  ]
}